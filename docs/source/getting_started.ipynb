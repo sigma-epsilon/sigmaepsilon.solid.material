{
 "cells": [
  {
   "cell_type": "markdown",
   "metadata": {},
   "source": [
    "# Getting started\n"
   ]
  },
  {
   "cell_type": "markdown",
   "metadata": {},
   "source": [
    "## What is this library?\n",
    "\n",
    "It is part of the `sigmaepsilon.solid` namespace, a set of namespace pacakes dedicated to different areas of solid mechanics. \n",
    "\n",
    "In this namespace, `sigmaepsilon.solid.material` is responsible for calculations related to mechanical investingations of solid materials. Similar to `sectionproperties`, but we are extending the possibilities by supporting similar functionality for membranes, plates, shells and 3d solids as well, for general anisotropy and utilization with a customizable failure mechanism. For 1d members we rely on `sectionproperties`."
   ]
  },
  {
   "cell_type": "markdown",
   "metadata": {},
   "source": [
    "## Where to begin?\n",
    "\n",
    "To start using the library, first follow the below step to install it. We assume you already have installed Python at this point and know what a Pthon package is."
   ]
  },
  {
   "cell_type": "markdown",
   "metadata": {},
   "source": [
    "## Installation\n"
   ]
  },
  {
   "cell_type": "markdown",
   "metadata": {},
   "source": [
    "You can install the package from PyPI:"
   ]
  },
  {
   "cell_type": "markdown",
   "metadata": {},
   "source": [
    "```console\n",
    "pip install sigmaepsilon.solid.material\n",
    "```"
   ]
  }
 ],
 "metadata": {
  "kernelspec": {
   "display_name": ".mesh",
   "language": "python",
   "name": "python3"
  },
  "language_info": {
   "codemirror_mode": {
    "name": "ipython",
    "version": 3
   },
   "file_extension": ".py",
   "mimetype": "text/x-python",
   "name": "python",
   "nbconvert_exporter": "python",
   "pygments_lexer": "ipython3",
   "version": "3.8.10"
  },
  "orig_nbformat": 4
 },
 "nbformat": 4,
 "nbformat_minor": 2
}
