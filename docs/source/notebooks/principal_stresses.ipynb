{
 "cells": [
  {
   "cell_type": "code",
   "execution_count": 17,
   "metadata": {},
   "outputs": [
    {
     "data": {
      "text/plain": [
       "array([1.])"
      ]
     },
     "execution_count": 17,
     "metadata": {},
     "output_type": "execute_result"
    }
   ],
   "source": [
    "from typing import Union, Iterable\n",
    "import math\n",
    "\n",
    "import numpy as np\n",
    "from numpy import ndarray\n",
    "from numba import njit, vectorize, guvectorize, prange, float64\n",
    "\n",
    "\n",
    "@guvectorize([(\"f8, f8, f8, f8\")], '(),(),()->()', target=\"cpu\")\n",
    "def principal_stress_angle_2d_cpu(s11, s22, s12, res):\n",
    "    \"\"\"\n",
    "    Returns principal angles for a planar state of stress in the 1-2 plane.\n",
    "    \"\"\"\n",
    "    res = 0.5 * np.arctan(2*s12 / (s11 - s22))\n",
    "\n",
    "principal_stress_angle_2d_cpu([1], [1], [1])"
   ]
  },
  {
   "cell_type": "code",
   "execution_count": 18,
   "metadata": {},
   "outputs": [],
   "source": [
    "@guvectorize([(\"f8, f8, f8, f8\")], '(),(),()->()', target=\"cpu\")\n",
    "def _max_principal_stress_cpu(s11, s22, s12, res):\n",
    "    \"\"\"\n",
    "    Returns principal angles for a planar state of stress in the 1-2 plane.\n",
    "    \"\"\"\n",
    "    res = 0.5*(s11+s22) + np.sqrt((0.5*(s11-s22))**2 + s12**2)\n",
    "    \n",
    "@guvectorize([(\"f8, f8, f8, f8\")], '(),(),()->()', target=\"cpu\")\n",
    "def _min_principal_stress_cpu(s11, s22, s12, res):\n",
    "    \"\"\"\n",
    "    Returns principal angles for a planar state of stress in the 1-2 plane.\n",
    "    \"\"\"\n",
    "    res = 0.5*(s11+s22) - np.sqrt((0.5*(s11-s22))**2 + s12**2)"
   ]
  },
  {
   "cell_type": "code",
   "execution_count": 23,
   "metadata": {},
   "outputs": [
    {
     "data": {
      "text/plain": [
       "1.0"
      ]
     },
     "execution_count": 23,
     "metadata": {},
     "output_type": "execute_result"
    }
   ],
   "source": [
    "_max_principal_stress_cpu(1, 1, 1)"
   ]
  },
  {
   "cell_type": "code",
   "execution_count": 20,
   "metadata": {},
   "outputs": [
    {
     "data": {
      "text/plain": [
       "1.0"
      ]
     },
     "execution_count": 20,
     "metadata": {},
     "output_type": "execute_result"
    }
   ],
   "source": [
    "principal_stress_angle_2d_cpu(1, 1, 1)"
   ]
  },
  {
   "cell_type": "code",
   "execution_count": 21,
   "metadata": {},
   "outputs": [
    {
     "data": {
      "text/plain": [
       "array([1.])"
      ]
     },
     "execution_count": 21,
     "metadata": {},
     "output_type": "execute_result"
    }
   ],
   "source": [
    "principal_stress_angle_2d_cpu([1], [1], [1])"
   ]
  },
  {
   "cell_type": "code",
   "execution_count": 22,
   "metadata": {},
   "outputs": [
    {
     "name": "stderr",
     "output_type": "stream",
     "text": [
      "f:\\GitHub\\SigmaEpsilon\\sigmaepsilon.solid.material\\.solid.material\\lib\\site-packages\\numba\\np\\ufunc\\gufunc.py:171: RuntimeWarning: divide by zero encountered in _principal_stresses_cpu\n",
      "  return self.ufunc(*args, **kwargs)\n"
     ]
    },
    {
     "data": {
      "text/plain": [
       "0.7853981633974483"
      ]
     },
     "execution_count": 22,
     "metadata": {},
     "output_type": "execute_result"
    }
   ],
   "source": [
    "_principal_stresses_cpu(1, 1, 1)"
   ]
  }
 ],
 "metadata": {
  "kernelspec": {
   "display_name": ".solid.material",
   "language": "python",
   "name": "python3"
  },
  "language_info": {
   "codemirror_mode": {
    "name": "ipython",
    "version": 3
   },
   "file_extension": ".py",
   "mimetype": "text/x-python",
   "name": "python",
   "nbconvert_exporter": "python",
   "pygments_lexer": "ipython3",
   "version": "3.8.10"
  }
 },
 "nbformat": 4,
 "nbformat_minor": 2
}
