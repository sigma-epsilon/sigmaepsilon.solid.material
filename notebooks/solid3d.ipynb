{
 "cells": [
  {
   "cell_type": "markdown",
   "metadata": {},
   "source": [
    "# General material models"
   ]
  },
  {
   "cell_type": "code",
   "execution_count": 1,
   "metadata": {},
   "outputs": [
    {
     "data": {
      "text/plain": [
       "(10,)"
      ]
     },
     "execution_count": 1,
     "metadata": {},
     "output_type": "execute_result"
    }
   ],
   "source": [
    "from sigmaepsilon.solid.material.utils import HMH_M_v\n",
    "import numpy as np\n",
    "HMH_M_v(*(np.random.rand(10),)*3).shape"
   ]
  },
  {
   "cell_type": "code",
   "execution_count": 2,
   "metadata": {},
   "outputs": [],
   "source": [
    "import numpy as np\n",
    "\n",
    "from sigmaepsilon.solid.material import ElasticityTensor\n",
    "from sigmaepsilon.math.linalg import ReferenceFrame\n",
    "from sigmaepsilon.solid.material.utils import elastic_stiffness_matrix\n",
    "from sigmaepsilon.math.logical import isposdef, issymmetric\n",
    "\n",
    "# create a material stiffness matrix in the 123 frame, which is bound\n",
    "# to the anatomical directions of the material\n",
    "hooke = elastic_stiffness_matrix(E=210000, NU=0.3)\n",
    "yield_strength=355.0\n",
    "\n",
    "assert isposdef(hooke)\n",
    "assert issymmetric(hooke, 1e-8)\n",
    "\n",
    "# create a 4d tensor from this matrix and check if the 2d representation of it\n",
    "# coincides with the matrix\n",
    "frame = ReferenceFrame(dim=3)\n",
    "tensor = ElasticityTensor(hooke, frame=frame, tensorial=False, yield_strength=yield_strength)"
   ]
  },
  {
   "cell_type": "code",
   "execution_count": 3,
   "metadata": {},
   "outputs": [
    {
     "data": {
      "text/plain": [
       "355.0"
      ]
     },
     "execution_count": 3,
     "metadata": {},
     "output_type": "execute_result"
    }
   ],
   "source": [
    "tensor.yield_strength"
   ]
  },
  {
   "cell_type": "code",
   "execution_count": 4,
   "metadata": {},
   "outputs": [
    {
     "data": {
      "text/plain": [
       "array([ 0.00169048, -0.00050714, -0.00050714,  0.        ,  0.        ,\n",
       "        0.        ])"
      ]
     },
     "execution_count": 4,
     "metadata": {},
     "output_type": "execute_result"
    }
   ],
   "source": [
    "tensor.calculate_strains(np.array([yield_strength, 0.0, 0.0, 0.0, 0.0, 0.0]))"
   ]
  },
  {
   "cell_type": "code",
   "execution_count": 5,
   "metadata": {},
   "outputs": [
    {
     "data": {
      "text/plain": [
       "323.0769230769232"
      ]
     },
     "execution_count": 5,
     "metadata": {},
     "output_type": "execute_result"
    }
   ],
   "source": [
    "tensor.calculate_equivalent_stress(np.array([0.002, 0.0, 0.0, 0.0, 0.0, 0.0]))"
   ]
  },
  {
   "cell_type": "code",
   "execution_count": 6,
   "metadata": {},
   "outputs": [
    {
     "data": {
      "text/plain": [
       "323.0769230769231"
      ]
     },
     "execution_count": 6,
     "metadata": {},
     "output_type": "execute_result"
    }
   ],
   "source": [
    "tensor.calculate_equivalent_stress(np.array([0.0, 0.002, 0.0, 0.0, 0.0, 0.0]))"
   ]
  },
  {
   "cell_type": "code",
   "execution_count": 7,
   "metadata": {},
   "outputs": [
    {
     "data": {
      "text/plain": [
       "array([312.45342707, 242.72187927, 296.71784759, 327.42713959,\n",
       "       356.31328107, 373.34254145, 336.65311252, 240.993593  ,\n",
       "       394.24392753, 411.41149212])"
      ]
     },
     "execution_count": 7,
     "metadata": {},
     "output_type": "execute_result"
    }
   ],
   "source": [
    "s11, s22, s33, s23, s13, s12 = (2*np.random.rand(10)/1000 for _ in range(6))\n",
    "tensor.calculate_equivalent_stress(s11, s22, s33, s23, s13, s12)"
   ]
  },
  {
   "cell_type": "code",
   "execution_count": 8,
   "metadata": {},
   "outputs": [
    {
     "data": {
      "text/plain": [
       "array([ 88.01504988,  68.37236036,  83.58249228,  92.23299707,\n",
       "       100.36993833, 105.16691308,  94.83186268,  67.88551916,\n",
       "       111.05462747, 115.89056116])"
      ]
     },
     "execution_count": 8,
     "metadata": {},
     "output_type": "execute_result"
    }
   ],
   "source": [
    "tensor.utilization(s11, s22, s33, s23, s13, s12) * 100"
   ]
  },
  {
   "cell_type": "code",
   "execution_count": 9,
   "metadata": {},
   "outputs": [
    {
     "data": {
      "text/plain": [
       "(6,)"
      ]
     },
     "execution_count": 9,
     "metadata": {},
     "output_type": "execute_result"
    }
   ],
   "source": [
    "tensor.calculate_stresses(np.random.rand(6)).shape"
   ]
  },
  {
   "cell_type": "code",
   "execution_count": 10,
   "metadata": {},
   "outputs": [
    {
     "data": {
      "text/plain": [
       "(10, 6)"
      ]
     },
     "execution_count": 10,
     "metadata": {},
     "output_type": "execute_result"
    }
   ],
   "source": [
    "tensor.calculate_stresses(np.random.rand(10, 6)).shape"
   ]
  },
  {
   "cell_type": "code",
   "execution_count": 11,
   "metadata": {},
   "outputs": [
    {
     "data": {
      "text/plain": [
       "100.00000000000003"
      ]
     },
     "execution_count": 11,
     "metadata": {},
     "output_type": "execute_result"
    }
   ],
   "source": [
    "strains = tensor.calculate_strains(np.array([yield_strength, 0.0, 0.0, 0.0, 0.0, 0.0]))\n",
    "tensor.utilization(strains) * 100"
   ]
  },
  {
   "cell_type": "code",
   "execution_count": 12,
   "metadata": {},
   "outputs": [
    {
     "data": {
      "text/plain": [
       "array([100.        , 100.        , 100.        , 173.20508076,\n",
       "       173.20508076, 173.20508076])"
      ]
     },
     "execution_count": 12,
     "metadata": {},
     "output_type": "execute_result"
    }
   ],
   "source": [
    "strains = tensor.calculate_strains(np.eye(6) * yield_strength)\n",
    "tensor.utilization(strains) * 100"
   ]
  },
  {
   "cell_type": "code",
   "execution_count": 13,
   "metadata": {},
   "outputs": [
    {
     "data": {
      "text/plain": [
       "2.561956906402615e-13"
      ]
     },
     "execution_count": 13,
     "metadata": {},
     "output_type": "execute_result"
    }
   ],
   "source": [
    "strains = tensor.calculate_strains(np.array([10*yield_strength, 10*yield_strength, 10*yield_strength, 0.0, 0.0, 0.0]))\n",
    "tensor.utilization(strains) * 100"
   ]
  },
  {
   "cell_type": "markdown",
   "metadata": {},
   "source": [
    "Utilization for a single state of strain:"
   ]
  },
  {
   "cell_type": "code",
   "execution_count": 14,
   "metadata": {},
   "outputs": [
    {
     "data": {
      "text/plain": [
       "array([0.00119028, 0.00021427, 0.00175297, 0.00120275, 0.00123302,\n",
       "       0.00046032])"
      ]
     },
     "execution_count": 14,
     "metadata": {},
     "output_type": "execute_result"
    }
   ],
   "source": [
    "strains = 2*np.random.rand(6)/1000\n",
    "strains"
   ]
  },
  {
   "cell_type": "code",
   "execution_count": 15,
   "metadata": {},
   "outputs": [
    {
     "data": {
      "text/plain": [
       "93.28330739855922"
      ]
     },
     "execution_count": 15,
     "metadata": {},
     "output_type": "execute_result"
    }
   ],
   "source": [
    "tensor.utilization(strains) * 100"
   ]
  },
  {
   "cell_type": "markdown",
   "metadata": {},
   "source": [
    "Utilizations for several states with bulk evaluation:"
   ]
  },
  {
   "cell_type": "code",
   "execution_count": 16,
   "metadata": {},
   "outputs": [
    {
     "data": {
      "text/plain": [
       "array([120.20683049,  73.71647629,  97.61521405, 115.32607562,\n",
       "        75.12146724, 107.60671741,  83.0931512 ,  83.78853228,\n",
       "       115.27364126,  50.4835455 ])"
      ]
     },
     "execution_count": 16,
     "metadata": {},
     "output_type": "execute_result"
    }
   ],
   "source": [
    "tensor.utilization(2*np.random.rand(10, 6)/1000) * 100"
   ]
  },
  {
   "cell_type": "code",
   "execution_count": 17,
   "metadata": {},
   "outputs": [
    {
     "data": {
      "text/plain": [
       "(10,)"
      ]
     },
     "execution_count": 17,
     "metadata": {},
     "output_type": "execute_result"
    }
   ],
   "source": [
    "tensor.utilization(2*np.random.rand(10, 6)/1000).shape"
   ]
  },
  {
   "cell_type": "code",
   "execution_count": 18,
   "metadata": {},
   "outputs": [
    {
     "data": {
      "text/plain": [
       "array([ 80.75826586, 124.80532675,  63.42834865,  96.30484824,\n",
       "        79.85557091,  76.30290992,  94.02298408,  58.98226608,\n",
       "        83.70141049,  42.1667663 ])"
      ]
     },
     "execution_count": 18,
     "metadata": {},
     "output_type": "execute_result"
    }
   ],
   "source": [
    "tensor.utilization(*(2*np.random.rand(10)/1000 for _ in range(6))) * 100"
   ]
  },
  {
   "cell_type": "code",
   "execution_count": 19,
   "metadata": {},
   "outputs": [
    {
     "data": {
      "text/plain": [
       "(10,)"
      ]
     },
     "execution_count": 19,
     "metadata": {},
     "output_type": "execute_result"
    }
   ],
   "source": [
    "tensor.utilization(*(2*np.random.rand(10)/1000 for _ in range(6))).shape"
   ]
  }
 ],
 "metadata": {
  "kernelspec": {
   "display_name": ".solid.material",
   "language": "python",
   "name": "python3"
  },
  "language_info": {
   "codemirror_mode": {
    "name": "ipython",
    "version": 3
   },
   "file_extension": ".py",
   "mimetype": "text/x-python",
   "name": "python",
   "nbconvert_exporter": "python",
   "pygments_lexer": "ipython3",
   "version": "3.8.10"
  }
 },
 "nbformat": 4,
 "nbformat_minor": 2
}
