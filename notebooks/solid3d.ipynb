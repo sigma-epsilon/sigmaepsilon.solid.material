{
 "cells": [
  {
   "cell_type": "markdown",
   "metadata": {},
   "source": [
    "# General material models"
   ]
  },
  {
   "cell_type": "code",
   "execution_count": 1,
   "metadata": {},
   "outputs": [],
   "source": [
    "import numpy as np\n",
    "\n",
    "from sigmaepsilon.solid.material import ElasticityTensor\n",
    "from sigmaepsilon.math.linalg import ReferenceFrame\n",
    "from sigmaepsilon.solid.material.utils import elastic_stiffness_matrix\n",
    "from sigmaepsilon.math.logical import isposdef, issymmetric\n",
    "from sigmaepsilon.solid.material import (\n",
    "    ElasticityTensor,\n",
    "    LinearElasticMaterial,\n",
    "    HuberMisesHenckyFailureCriterion,\n",
    ")\n",
    "\n",
    "hooke = elastic_stiffness_matrix(E=210000, NU=0.3)\n",
    "assert isposdef(hooke)\n",
    "assert issymmetric(hooke, 1e-8)\n",
    "\n",
    "yield_strength=355.0\n",
    "\n",
    "frame = ReferenceFrame(dim=3)\n",
    "stiffness = ElasticityTensor(hooke, frame=frame, tensorial=False)\n",
    "failure_model = HuberMisesHenckyFailureCriterion(yield_strength=yield_strength)\n",
    "material = LinearElasticMaterial(stiffness=stiffness, failure_model=failure_model)"
   ]
  },
  {
   "cell_type": "code",
   "execution_count": 2,
   "metadata": {},
   "outputs": [
    {
     "data": {
      "text/plain": [
       "array([ 0.00169048, -0.00050714, -0.00050714,  0.        ,  0.        ,\n",
       "        0.        ])"
      ]
     },
     "execution_count": 2,
     "metadata": {},
     "output_type": "execute_result"
    }
   ],
   "source": [
    "material.calculate_strains(np.array([yield_strength, 0.0, 0.0, 0.0, 0.0, 0.0]))"
   ]
  },
  {
   "cell_type": "code",
   "execution_count": 3,
   "metadata": {},
   "outputs": [
    {
     "data": {
      "text/plain": [
       "array([0.00284265, 0.00374942, 0.0057942 , 0.00408893, 0.0063019 ,\n",
       "       0.00325941, 0.00287428, 0.00484382, 0.00455315, 0.00415884])"
      ]
     },
     "execution_count": 3,
     "metadata": {},
     "output_type": "execute_result"
    }
   ],
   "source": [
    "material.utilization(stresses=np.random.rand(10, 6))"
   ]
  },
  {
   "cell_type": "code",
   "execution_count": 4,
   "metadata": {},
   "outputs": [
    {
     "data": {
      "text/plain": [
       "(6,)"
      ]
     },
     "execution_count": 4,
     "metadata": {},
     "output_type": "execute_result"
    }
   ],
   "source": [
    "material.calculate_stresses(strains=np.random.rand(6)).shape"
   ]
  },
  {
   "cell_type": "code",
   "execution_count": 5,
   "metadata": {},
   "outputs": [
    {
     "data": {
      "text/plain": [
       "(10, 6)"
      ]
     },
     "execution_count": 5,
     "metadata": {},
     "output_type": "execute_result"
    }
   ],
   "source": [
    "material.calculate_stresses(strains=np.random.rand(10, 6)).shape"
   ]
  },
  {
   "cell_type": "code",
   "execution_count": 6,
   "metadata": {},
   "outputs": [
    {
     "data": {
      "text/plain": [
       "100.0"
      ]
     },
     "execution_count": 6,
     "metadata": {},
     "output_type": "execute_result"
    }
   ],
   "source": [
    "stresses=np.array([yield_strength, 0.0, 0.0, 0.0, 0.0, 0.0])\n",
    "strains = material.calculate_strains(stresses=stresses)\n",
    "material.utilization(stresses=stresses) * 100"
   ]
  },
  {
   "cell_type": "code",
   "execution_count": 7,
   "metadata": {},
   "outputs": [
    {
     "data": {
      "text/plain": [
       "array([1.        , 1.        , 1.        , 1.73205081, 1.73205081,\n",
       "       1.73205081])"
      ]
     },
     "execution_count": 7,
     "metadata": {},
     "output_type": "execute_result"
    }
   ],
   "source": [
    "strains = material.calculate_strains(stresses=np.eye(6) * yield_strength)\n",
    "stresses = material.calculate_stresses(strains=strains)\n",
    "material.utilization(stresses=stresses)"
   ]
  },
  {
   "cell_type": "code",
   "execution_count": 8,
   "metadata": {},
   "outputs": [
    {
     "data": {
      "text/plain": [
       "array(2.56195691e-15)"
      ]
     },
     "execution_count": 8,
     "metadata": {},
     "output_type": "execute_result"
    }
   ],
   "source": [
    "strains = material.calculate_strains(stresses=np.array([10*yield_strength, 10*yield_strength, 10*yield_strength, 0.0, 0.0, 0.0]))\n",
    "stresses = material.calculate_stresses(strains=strains)\n",
    "material.utilization(stresses=stresses)"
   ]
  },
  {
   "cell_type": "markdown",
   "metadata": {},
   "source": [
    "Utilization for a single state of strain:"
   ]
  },
  {
   "cell_type": "code",
   "execution_count": 9,
   "metadata": {},
   "outputs": [
    {
     "data": {
      "text/plain": [
       "array([0.00163524, 0.00134537, 0.00118588, 0.00032621, 0.00088649,\n",
       "       0.00123073])"
      ]
     },
     "execution_count": 9,
     "metadata": {},
     "output_type": "execute_result"
    }
   ],
   "source": [
    "strains = 2*np.random.rand(6)/1000\n",
    "strains"
   ]
  },
  {
   "cell_type": "code",
   "execution_count": 10,
   "metadata": {},
   "outputs": [
    {
     "data": {
      "text/plain": [
       "63.720156267084384"
      ]
     },
     "execution_count": 10,
     "metadata": {},
     "output_type": "execute_result"
    }
   ],
   "source": [
    "stresses = material.calculate_stresses(strains=strains)\n",
    "material.utilization(stresses=stresses) * 100"
   ]
  },
  {
   "cell_type": "markdown",
   "metadata": {},
   "source": [
    "Utilizations for several states with bulk evaluation:"
   ]
  },
  {
   "cell_type": "code",
   "execution_count": 11,
   "metadata": {},
   "outputs": [
    {
     "data": {
      "text/plain": [
       "array([0.00066279, 0.00084289, 0.00092441, 0.00109238, 0.00087304,\n",
       "       0.00063178, 0.00092051, 0.00101957, 0.00053558, 0.00065827])"
      ]
     },
     "execution_count": 11,
     "metadata": {},
     "output_type": "execute_result"
    }
   ],
   "source": [
    "material.utilization(stresses=2*np.random.rand(10, 6)/1000) * 100"
   ]
  },
  {
   "cell_type": "code",
   "execution_count": 12,
   "metadata": {},
   "outputs": [
    {
     "data": {
      "text/plain": [
       "(10,)"
      ]
     },
     "execution_count": 12,
     "metadata": {},
     "output_type": "execute_result"
    }
   ],
   "source": [
    "material.utilization(stresses=2*np.random.rand(10, 6)/1000).shape"
   ]
  },
  {
   "cell_type": "code",
   "execution_count": 13,
   "metadata": {},
   "outputs": [
    {
     "data": {
      "text/plain": [
       "array([0.00116298, 0.00054026, 0.00110628, 0.00089284, 0.0013587 ,\n",
       "       0.00043765, 0.000808  , 0.00100828, 0.00075597, 0.00100939])"
      ]
     },
     "execution_count": 13,
     "metadata": {},
     "output_type": "execute_result"
    }
   ],
   "source": [
    "material.utilization(stresses=tuple(2*np.random.rand(10)/1000 for _ in range(6))) * 100"
   ]
  }
 ],
 "metadata": {
  "kernelspec": {
   "display_name": ".solid.material",
   "language": "python",
   "name": "python3"
  },
  "language_info": {
   "codemirror_mode": {
    "name": "ipython",
    "version": 3
   },
   "file_extension": ".py",
   "mimetype": "text/x-python",
   "name": "python",
   "nbconvert_exporter": "python",
   "pygments_lexer": "ipython3",
   "version": "3.8.10"
  }
 },
 "nbformat": 4,
 "nbformat_minor": 2
}
