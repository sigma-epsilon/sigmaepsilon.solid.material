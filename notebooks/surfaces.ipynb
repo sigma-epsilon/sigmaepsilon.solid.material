{
 "cells": [
  {
   "cell_type": "markdown",
   "metadata": {},
   "source": [
    "# Material Models"
   ]
  },
  {
   "cell_type": "code",
   "execution_count": 30,
   "metadata": {},
   "outputs": [
    {
     "data": {
      "text/plain": [
       "array([[2.30769231e+05, 6.92307692e+04, 0.00000000e+00, 0.00000000e+00,\n",
       "        0.00000000e+00, 0.00000000e+00, 0.00000000e+00, 0.00000000e+00],\n",
       "       [6.92307692e+04, 2.30769231e+05, 0.00000000e+00, 0.00000000e+00,\n",
       "        0.00000000e+00, 0.00000000e+00, 0.00000000e+00, 0.00000000e+00],\n",
       "       [0.00000000e+00, 0.00000000e+00, 8.07692308e+04, 0.00000000e+00,\n",
       "        0.00000000e+00, 0.00000000e+00, 0.00000000e+00, 0.00000000e+00],\n",
       "       [0.00000000e+00, 0.00000000e+00, 0.00000000e+00, 1.92307692e+02,\n",
       "        5.76923077e+01, 0.00000000e+00, 0.00000000e+00, 0.00000000e+00],\n",
       "       [0.00000000e+00, 0.00000000e+00, 0.00000000e+00, 5.76923077e+01,\n",
       "        1.92307692e+02, 0.00000000e+00, 0.00000000e+00, 0.00000000e+00],\n",
       "       [0.00000000e+00, 0.00000000e+00, 0.00000000e+00, 0.00000000e+00,\n",
       "        0.00000000e+00, 6.73076923e+01, 0.00000000e+00, 0.00000000e+00],\n",
       "       [0.00000000e+00, 0.00000000e+00, 0.00000000e+00, 0.00000000e+00,\n",
       "        0.00000000e+00, 0.00000000e+00, 6.73076923e+04, 0.00000000e+00],\n",
       "       [0.00000000e+00, 0.00000000e+00, 0.00000000e+00, 0.00000000e+00,\n",
       "        0.00000000e+00, 0.00000000e+00, 0.00000000e+00, 6.73076923e+04]])"
      ]
     },
     "execution_count": 30,
     "metadata": {},
     "output_type": "execute_result"
    }
   ],
   "source": [
    "from sigmaepsilon.solid.core import MindlinShellSection as Section\n",
    "\n",
    "section = Section(\n",
    "    layers=[Section.Layer(material=Section.Material(E=2100000, nu=0.3), thickness=0.1)]\n",
    ")\n",
    "section.elastic_stiffness_matrix()"
   ]
  },
  {
   "cell_type": "code",
   "execution_count": 31,
   "metadata": {},
   "outputs": [
    {
     "data": {
      "text/plain": [
       "array([[230769.23076923,  69230.76923077,      0.        ],\n",
       "       [ 69230.76923077, 230769.23076923,      0.        ],\n",
       "       [     0.        ,      0.        ,  80769.23076923]])"
      ]
     },
     "execution_count": 31,
     "metadata": {},
     "output_type": "execute_result"
    }
   ],
   "source": [
    "from sigmaepsilon.solid.core import MembraneSection as Section\n",
    "\n",
    "section = Section(\n",
    "    layers=[Section.Layer(material=Section.Material(E=2100000, nu=0.3), thickness=0.1)]\n",
    ")\n",
    "section.elastic_stiffness_matrix()"
   ]
  },
  {
   "cell_type": "code",
   "execution_count": 32,
   "metadata": {},
   "outputs": [
    {
     "name": "stderr",
     "output_type": "stream",
     "text": [
      "F:\\GitHub\\SigmaEpsilon\\sigmaepsilon.solid.core\\src\\sigmaepsilon\\solid\\core\\material\\surface\\membrane.py:36: SigmaEpsilonMaterialWarning: MyCustomWarning: It seems that handling this section as a membrane only would result in missing out on the effect of bending-extension coupling. It is suggested to use a shell instead. (Custom Data: None)\n",
      "  warnings.warn(\n"
     ]
    },
    {
     "data": {
      "text/plain": [
       "array([[484615.38461538, 145384.61538462,      0.        ],\n",
       "       [145384.61538462, 484615.38461538,      0.        ],\n",
       "       [     0.        ,      0.        , 169615.38461538]])"
      ]
     },
     "execution_count": 32,
     "metadata": {},
     "output_type": "execute_result"
    }
   ],
   "source": [
    "from sigmaepsilon.solid.core import MembraneSection as Section\n",
    "\n",
    "section = Section(\n",
    "    layers=[\n",
    "        Section.Layer(material=Section.Material(E=2100000, nu=0.3), thickness=0.1),\n",
    "        Section.Layer(material=Section.Material(E=2100000, nu=0.3), thickness=0.1),\n",
    "        Section.Layer(material=Section.Material(E=210000, nu=0.3), thickness=0.1),\n",
    "    ]\n",
    ")\n",
    "section.elastic_stiffness_matrix()"
   ]
  },
  {
   "cell_type": "code",
   "execution_count": 33,
   "metadata": {},
   "outputs": [
    {
     "data": {
      "text/plain": [
       "array([[1538.46153846,  461.53846154,    0.        ],\n",
       "       [ 461.53846154, 1538.46153846,    0.        ],\n",
       "       [   0.        ,    0.        ,  538.46153846]])"
      ]
     },
     "execution_count": 33,
     "metadata": {},
     "output_type": "execute_result"
    }
   ],
   "source": [
    "from sigmaepsilon.solid.core import MindlinPlateSection as Section\n",
    "\n",
    "section = Section(\n",
    "    layers=[Section.Layer(material=Section.Material(E=2100000, nu=0.3), thickness=0.2)]\n",
    ")\n",
    "section.elastic_stiffness_matrix()"
   ]
  },
  {
   "cell_type": "code",
   "execution_count": 34,
   "metadata": {},
   "outputs": [
    {
     "name": "stderr",
     "output_type": "stream",
     "text": [
      "F:\\GitHub\\SigmaEpsilon\\sigmaepsilon.solid.core\\src\\sigmaepsilon\\solid\\core\\material\\surface\\mindlin.py:235: SigmaEpsilonMaterialWarning: MyCustomWarning: It seems that handling this section as a plate only would result in missing out on the effect of bending-extension coupling. It is suggested to use a shell instead. (Custom Data: None)\n",
      "  warnings.warn(\n"
     ]
    },
    {
     "data": {
      "text/plain": [
       "array([[ 2.94230769e+03,  8.82692308e+02, -1.06134868e-15],\n",
       "       [ 8.82692308e+02,  2.94230769e+03,  3.25904983e-14],\n",
       "       [ 2.79626099e-14, -4.31574768e-15,  1.02980769e+03]])"
      ]
     },
     "execution_count": 34,
     "metadata": {},
     "output_type": "execute_result"
    }
   ],
   "source": [
    "section = Section(\n",
    "    layers=[\n",
    "        Section.Layer(material=Section.Material(E=2100000, nu=0.3), thickness=0.1),\n",
    "        Section.Layer(material=Section.Material(E=2100000, nu=0.3), thickness=0.1),\n",
    "        Section.Layer(\n",
    "            material=Section.Material(E=210000, nu=0.3), thickness=0.1, angle=30.0\n",
    "        ),\n",
    "    ]\n",
    ")\n",
    "section.elastic_stiffness_matrix()"
   ]
  },
  {
   "cell_type": "code",
   "execution_count": 36,
   "metadata": {},
   "outputs": [
    {
     "name": "stderr",
     "output_type": "stream",
     "text": [
      "F:\\GitHub\\SigmaEpsilon\\sigmaepsilon.solid.core\\src\\sigmaepsilon\\solid\\core\\material\\surface\\mindlin.py:235: SigmaEpsilonMaterialWarning: MyCustomWarning: It seems that handling this section as a plate only would result in missing out on the effect of bending-extension coupling. It is suggested to use a shell instead. (Custom Data: None)\n",
      "  warnings.warn(\n"
     ]
    },
    {
     "data": {
      "text/plain": [
       "array([[ 1.53846147e+03,  4.61538423e+02, -2.43253456e-05],\n",
       "       [ 4.61538347e+02,  1.53846147e+03, -4.22492844e-05],\n",
       "       [ 4.22492845e-05,  2.43253456e-05,  5.38461554e+02]])"
      ]
     },
     "execution_count": 36,
     "metadata": {},
     "output_type": "execute_result"
    }
   ],
   "source": [
    "section = Section(\n",
    "    layers=[\n",
    "        Section.Layer(material=Section.Material(E=2100000, nu=0.3), thickness=0.1),\n",
    "        Section.Layer(\n",
    "            material=Section.Material(\n",
    "                E1=2100000,\n",
    "                E2=5000,\n",
    "                E3=10,\n",
    "                nu12=0.3,\n",
    "                G13=3000.0,\n",
    "                isoplane=\"12\",\n",
    "            ),\n",
    "            thickness=0.1,\n",
    "            angle=30.0,\n",
    "        ),\n",
    "    ]\n",
    ")\n",
    "section.elastic_stiffness_matrix()"
   ]
  }
 ],
 "metadata": {
  "kernelspec": {
   "display_name": ".sigeps",
   "language": "python",
   "name": "python3"
  },
  "language_info": {
   "codemirror_mode": {
    "name": "ipython",
    "version": 3
   },
   "file_extension": ".py",
   "mimetype": "text/x-python",
   "name": "python",
   "nbconvert_exporter": "python",
   "pygments_lexer": "ipython3",
   "version": "3.8.10"
  },
  "orig_nbformat": 4,
  "vscode": {
   "interpreter": {
    "hash": "28d81e0e1442962330764574f1956d80898814d1923baa1210fb6369a4e79b2a"
   }
  }
 },
 "nbformat": 4,
 "nbformat_minor": 2
}
