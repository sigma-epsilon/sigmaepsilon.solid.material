{
 "cells": [
  {
   "cell_type": "markdown",
   "metadata": {},
   "source": [
    "# Material Models\n"
   ]
  },
  {
   "cell_type": "markdown",
   "metadata": {},
   "source": [
    "## Shells\n"
   ]
  },
  {
   "cell_type": "code",
   "execution_count": 56,
   "metadata": {},
   "outputs": [
    {
     "data": {
      "text/plain": [
       "array([[2.30769231e+05, 6.92307692e+04, 0.00000000e+00, 0.00000000e+00,\n",
       "        0.00000000e+00, 0.00000000e+00, 0.00000000e+00, 0.00000000e+00],\n",
       "       [6.92307692e+04, 2.30769231e+05, 0.00000000e+00, 0.00000000e+00,\n",
       "        0.00000000e+00, 0.00000000e+00, 0.00000000e+00, 0.00000000e+00],\n",
       "       [0.00000000e+00, 0.00000000e+00, 8.07692308e+04, 0.00000000e+00,\n",
       "        0.00000000e+00, 0.00000000e+00, 0.00000000e+00, 0.00000000e+00],\n",
       "       [0.00000000e+00, 0.00000000e+00, 0.00000000e+00, 1.92307692e+02,\n",
       "        5.76923077e+01, 0.00000000e+00, 0.00000000e+00, 0.00000000e+00],\n",
       "       [0.00000000e+00, 0.00000000e+00, 0.00000000e+00, 5.76923077e+01,\n",
       "        1.92307692e+02, 0.00000000e+00, 0.00000000e+00, 0.00000000e+00],\n",
       "       [0.00000000e+00, 0.00000000e+00, 0.00000000e+00, 0.00000000e+00,\n",
       "        0.00000000e+00, 6.73076923e+01, 0.00000000e+00, 0.00000000e+00],\n",
       "       [0.00000000e+00, 0.00000000e+00, 0.00000000e+00, 0.00000000e+00,\n",
       "        0.00000000e+00, 0.00000000e+00, 6.73076923e+04, 0.00000000e+00],\n",
       "       [0.00000000e+00, 0.00000000e+00, 0.00000000e+00, 0.00000000e+00,\n",
       "        0.00000000e+00, 0.00000000e+00, 0.00000000e+00, 6.73076923e+04]])"
      ]
     },
     "execution_count": 56,
     "metadata": {},
     "output_type": "execute_result"
    }
   ],
   "source": [
    "from sigmaepsilon.solid.material import MindlinShellSection as Section\n",
    "\n",
    "section = Section(\n",
    "    layers=[Section.Layer(material=Section.Material(E=2100000, nu=0.3), thickness=0.1)]\n",
    ")\n",
    "section.elastic_stiffness_matrix()"
   ]
  },
  {
   "cell_type": "markdown",
   "metadata": {},
   "source": [
    "## Membranes\n"
   ]
  },
  {
   "cell_type": "markdown",
   "metadata": {},
   "source": [
    "A membrane specimen can be constructed as a list of layers, each defined with its own elasticity tensor.\n"
   ]
  },
  {
   "cell_type": "code",
   "execution_count": 57,
   "metadata": {},
   "outputs": [
    {
     "data": {
      "text/plain": [
       "array([[28269.23076923, 12115.38461538,     0.        ],\n",
       "       [12115.38461538, 28269.23076923,     0.        ],\n",
       "       [    0.        ,     0.        ,  8076.92307692]])"
      ]
     },
     "execution_count": 57,
     "metadata": {},
     "output_type": "execute_result"
    }
   ],
   "source": [
    "from sigmaepsilon.solid.material import MembraneSection as Section\n",
    "from sigmaepsilon.math.linalg import ReferenceFrame\n",
    "from sigmaepsilon.solid.material import ElasticityTensor\n",
    "from sigmaepsilon.solid.material.utils import elastic_stiffness_matrix\n",
    "import numpy as np\n",
    "\n",
    "yield_strength = 355.0\n",
    "hooke = elastic_stiffness_matrix(E=210000, NU=0.3)\n",
    "frame = ReferenceFrame(dim=3)\n",
    "tensor = ElasticityTensor(\n",
    "    hooke, frame=frame, tensorial=False, yield_strength=yield_strength\n",
    ")\n",
    "\n",
    "section = Section(layers=[Section.Layer(material=tensor, thickness=0.1)])\n",
    "section.elastic_stiffness_matrix()"
   ]
  },
  {
   "cell_type": "code",
   "execution_count": 58,
   "metadata": {},
   "outputs": [
    {
     "data": {
      "text/plain": [
       "83.46916296091503"
      ]
     },
     "execution_count": 58,
     "metadata": {},
     "output_type": "execute_result"
    }
   ],
   "source": [
    "section.utilization(strains=2 * np.random.rand(3) / 1000) * 100"
   ]
  },
  {
   "cell_type": "code",
   "execution_count": 59,
   "metadata": {},
   "outputs": [
    {
     "data": {
      "text/plain": [
       "array(245650.02526204)"
      ]
     },
     "execution_count": 59,
     "metadata": {},
     "output_type": "execute_result"
    }
   ],
   "source": [
    "section.calculate_equivalent_stress(strains=np.array([1.0, 0.0, 0.0]))"
   ]
  },
  {
   "cell_type": "code",
   "execution_count": 60,
   "metadata": {},
   "outputs": [
    {
     "data": {
      "text/plain": [
       "array([245650.02526204, 245650.02526204, 245650.02526204])"
      ]
     },
     "execution_count": 60,
     "metadata": {},
     "output_type": "execute_result"
    }
   ],
   "source": [
    "section.calculate_equivalent_stress(strains=np.array([1.0, 0.0, 0.0]), z=[-1, 0, 1])"
   ]
  },
  {
   "cell_type": "code",
   "execution_count": 61,
   "metadata": {},
   "outputs": [
    {
     "data": {
      "text/plain": [
       "array(245650.02526204)"
      ]
     },
     "execution_count": 61,
     "metadata": {},
     "output_type": "execute_result"
    }
   ],
   "source": [
    "section.calculate_equivalent_stress(strains=np.array([1.0, 0.0, 0.0]), z=[0])"
   ]
  },
  {
   "cell_type": "code",
   "execution_count": 62,
   "metadata": {},
   "outputs": [
    {
     "data": {
      "text/plain": [
       "array([[245650.02526204]])"
      ]
     },
     "execution_count": 62,
     "metadata": {},
     "output_type": "execute_result"
    }
   ],
   "source": [
    "section.calculate_equivalent_stress(\n",
    "    strains=np.array([1.0, 0.0, 0.0]), z=[0], squeeze=False\n",
    ")"
   ]
  },
  {
   "cell_type": "code",
   "execution_count": 63,
   "metadata": {},
   "outputs": [
    {
     "data": {
      "text/plain": [
       "(3,)"
      ]
     },
     "execution_count": 63,
     "metadata": {},
     "output_type": "execute_result"
    }
   ],
   "source": [
    "section.calculate_equivalent_stress(\n",
    "    strains=np.array([1.0, 0.0, 0.0]), z=[-1, 0, 1]\n",
    ").shape"
   ]
  },
  {
   "cell_type": "code",
   "execution_count": 64,
   "metadata": {},
   "outputs": [
    {
     "data": {
      "text/plain": [
       "array([[691.97190215]])"
      ]
     },
     "execution_count": 64,
     "metadata": {},
     "output_type": "execute_result"
    }
   ],
   "source": [
    "section.utilization(strains=np.array([1.0, 0.0, 0.0]), z=[0], squeeze=False)"
   ]
  },
  {
   "cell_type": "code",
   "execution_count": 65,
   "metadata": {},
   "outputs": [
    {
     "data": {
      "text/plain": [
       "array(691.97190215)"
      ]
     },
     "execution_count": 65,
     "metadata": {},
     "output_type": "execute_result"
    }
   ],
   "source": [
    "section.utilization(strains=np.array([1.0, 0.0, 0.0]), z=[0], squeeze=True)"
   ]
  },
  {
   "cell_type": "code",
   "execution_count": 66,
   "metadata": {},
   "outputs": [
    {
     "data": {
      "text/plain": [
       "array([[691.97190215, 691.97190215, 691.97190215]])"
      ]
     },
     "execution_count": 66,
     "metadata": {},
     "output_type": "execute_result"
    }
   ],
   "source": [
    "section.utilization(strains=np.array([1.0, 0.0, 0.0]), z=[-1, 0, 1], squeeze=False)"
   ]
  },
  {
   "cell_type": "code",
   "execution_count": 67,
   "metadata": {},
   "outputs": [
    {
     "data": {
      "text/plain": [
       "array([691.97190215, 691.97190215, 691.97190215])"
      ]
     },
     "execution_count": 67,
     "metadata": {},
     "output_type": "execute_result"
    }
   ],
   "source": [
    "section.utilization(strains=np.array([1.0, 0.0, 0.0]), z=[-1, 0, 1], squeeze=True)"
   ]
  },
  {
   "cell_type": "code",
   "execution_count": 68,
   "metadata": {},
   "outputs": [
    {
     "data": {
      "text/plain": [
       "array([219.0847106 , 138.63217248, 210.65448794,  46.99779752,\n",
       "       198.70707613])"
      ]
     },
     "execution_count": 68,
     "metadata": {},
     "output_type": "execute_result"
    }
   ],
   "source": [
    "section.utilization(strains=2 * np.random.rand(5, 3) / 1000) * 100"
   ]
  },
  {
   "cell_type": "code",
   "execution_count": 69,
   "metadata": {},
   "outputs": [
    {
     "data": {
      "text/plain": [
       "array([420.45281744, 539.21565063, 431.70665545, 800.7643579 ,\n",
       "       447.35298778])"
      ]
     },
     "execution_count": 69,
     "metadata": {},
     "output_type": "execute_result"
    }
   ],
   "source": [
    "section.calculate_equivalent_stress(strains=2 * np.random.rand(5, 3) / 1000)"
   ]
  },
  {
   "cell_type": "markdown",
   "metadata": {},
   "source": [
    "### Creating an invalid membrane\n"
   ]
  },
  {
   "cell_type": "markdown",
   "metadata": {},
   "source": [
    "The `MembraneSection` class allows for definitions that has other than membrane stiffness, but a warning is thrown at creating an instance if it happens to be so. For example, if we create a membrane out of 3 layers of equal thicknessm but one having significantly smaller elastic modulus couples strenthing and bending response of a specimen.\n"
   ]
  },
  {
   "cell_type": "code",
   "execution_count": 70,
   "metadata": {},
   "outputs": [
    {
     "name": "stderr",
     "output_type": "stream",
     "text": [
      "F:\\GitHub\\SigmaEpsilon\\sigmaepsilon.solid.material\\src\\sigmaepsilon\\solid\\material\\surface\\membrane.py:109: SigmaEpsilonMaterialWarning: [sigmaepsilon.solid.material] It seems that handling this section as a membrane only would result in missing out on the effect of bending-extension coupling. It is suggested to use a shell instead.\n",
      "  warnings.warn(\n"
     ]
    },
    {
     "data": {
      "text/plain": [
       "array([[484615.38461538, 145384.61538462,      0.        ],\n",
       "       [145384.61538462, 484615.38461538,      0.        ],\n",
       "       [     0.        ,      0.        , 169615.38461538]])"
      ]
     },
     "execution_count": 70,
     "metadata": {},
     "output_type": "execute_result"
    }
   ],
   "source": [
    "from sigmaepsilon.solid.material import MembraneSection as Section\n",
    "\n",
    "section = Section(\n",
    "    layers=[\n",
    "        Section.Layer(material=Section.Material(E=2100000, nu=0.3), thickness=0.1),\n",
    "        Section.Layer(material=Section.Material(E=2100000, nu=0.3), thickness=0.1),\n",
    "        Section.Layer(material=Section.Material(E=210000, nu=0.3), thickness=0.1),\n",
    "    ]\n",
    ")\n",
    "section.elastic_stiffness_matrix()"
   ]
  },
  {
   "cell_type": "markdown",
   "metadata": {},
   "source": [
    "## Plates\n"
   ]
  },
  {
   "cell_type": "code",
   "execution_count": 71,
   "metadata": {},
   "outputs": [
    {
     "data": {
      "text/plain": [
       "array([[  5192.30769231,   1557.69230769,      0.        ,\n",
       "             0.        ,      0.        ],\n",
       "       [  1557.69230769,   5192.30769231,      0.        ,\n",
       "             0.        ,      0.        ],\n",
       "       [     0.        ,      0.        ,   1817.30769231,\n",
       "             0.        ,      0.        ],\n",
       "       [     0.        ,      0.        ,      0.        ,\n",
       "        201923.07692308,      0.        ],\n",
       "       [     0.        ,      0.        ,      0.        ,\n",
       "             0.        , 201923.07692308]])"
      ]
     },
     "execution_count": 71,
     "metadata": {},
     "output_type": "execute_result"
    }
   ],
   "source": [
    "from sigmaepsilon.solid.material import MindlinPlateSection as Section\n",
    "\n",
    "section = Section(\n",
    "    layers=[\n",
    "        Section.Layer(material=Section.Material(E=2100000, nu=0.3), thickness=0.1),\n",
    "        Section.Layer(material=Section.Material(E=2100000, nu=0.3), thickness=0.1),\n",
    "        Section.Layer(material=Section.Material(E=2100000, nu=0.3), thickness=0.1)\n",
    "    ]\n",
    ")\n",
    "section.elastic_stiffness_matrix()"
   ]
  },
  {
   "cell_type": "code",
   "execution_count": 72,
   "metadata": {},
   "outputs": [
    {
     "data": {
      "text/plain": [
       "array([0.        , 2.77777778, 4.44444444])"
      ]
     },
     "execution_count": 72,
     "metadata": {},
     "output_type": "execute_result"
    }
   ],
   "source": [
    "section.layers[0]._shear_factors_x"
   ]
  },
  {
   "cell_type": "code",
   "execution_count": 73,
   "metadata": {},
   "outputs": [
    {
     "data": {
      "text/plain": [
       "array([0.        , 2.77777778, 4.44444444])"
      ]
     },
     "execution_count": 73,
     "metadata": {},
     "output_type": "execute_result"
    }
   ],
   "source": [
    "section.layers[0]._shear_factors_y"
   ]
  },
  {
   "cell_type": "code",
   "execution_count": 74,
   "metadata": {},
   "outputs": [
    {
     "data": {
      "text/plain": [
       "(2.777777777777776, 2.7777777777777795)"
      ]
     },
     "execution_count": 74,
     "metadata": {},
     "output_type": "execute_result"
    }
   ],
   "source": [
    "section.layers[2]._loc_to_shear_factors(0.0)"
   ]
  },
  {
   "cell_type": "code",
   "execution_count": 75,
   "metadata": {},
   "outputs": [
    {
     "data": {
      "text/plain": [
       "array([[0.        , 0.        ],\n",
       "       [2.77777778, 2.77777778],\n",
       "       [4.44444444, 4.44444444]])"
      ]
     },
     "execution_count": 75,
     "metadata": {},
     "output_type": "execute_result"
    }
   ],
   "source": [
    "np.stack([section.layers[0]._shear_factors_x, section.layers[0]._shear_factors_y], axis=1)"
   ]
  },
  {
   "cell_type": "code",
   "execution_count": 76,
   "metadata": {},
   "outputs": [
    {
     "data": {
      "text/plain": [
       "array([[4.44444444, 4.44444444],\n",
       "       [5.        , 5.        ],\n",
       "       [4.44444444, 4.44444444]])"
      ]
     },
     "execution_count": 76,
     "metadata": {},
     "output_type": "execute_result"
    }
   ],
   "source": [
    "np.stack([section.layers[1]._shear_factors_x, section.layers[1]._shear_factors_y], axis=1)"
   ]
  },
  {
   "cell_type": "code",
   "execution_count": 77,
   "metadata": {},
   "outputs": [
    {
     "data": {
      "text/plain": [
       "array([[4.44444444, 4.44444444],\n",
       "       [2.77777778, 2.77777778],\n",
       "       [0.        , 0.        ]])"
      ]
     },
     "execution_count": 77,
     "metadata": {},
     "output_type": "execute_result"
    }
   ],
   "source": [
    "np.stack([section.layers[2]._shear_factors_x, section.layers[2]._shear_factors_y], axis=1)"
   ]
  },
  {
   "cell_type": "code",
   "execution_count": 78,
   "metadata": {},
   "outputs": [
    {
     "data": {
      "text/plain": [
       "(5, 5)"
      ]
     },
     "execution_count": 78,
     "metadata": {},
     "output_type": "execute_result"
    }
   ],
   "source": [
    "from sigmaepsilon.solid.material import MindlinPlateSection as Section\n",
    "from sigmaepsilon.math.linalg import ReferenceFrame\n",
    "from sigmaepsilon.solid.material import ElasticityTensor\n",
    "from sigmaepsilon.solid.material.utils import elastic_stiffness_matrix\n",
    "import numpy as np\n",
    "\n",
    "yield_strength = 355.0\n",
    "hooke = elastic_stiffness_matrix(E=210000, NU=0.3)\n",
    "frame = ReferenceFrame(dim=3)\n",
    "tensor = ElasticityTensor(\n",
    "    hooke, frame=frame, tensorial=False, yield_strength=yield_strength\n",
    ")\n",
    "\n",
    "section = Section(\n",
    "    layers=[\n",
    "        Section.Layer(material=tensor, thickness=0.1),\n",
    "        Section.Layer(material=tensor, thickness=0.1),\n",
    "    ]\n",
    ")\n",
    "section.elastic_stiffness_matrix().shape"
   ]
  },
  {
   "cell_type": "code",
   "execution_count": 79,
   "metadata": {},
   "outputs": [
    {
     "data": {
      "text/plain": [
       "array(12282.5012631)"
      ]
     },
     "execution_count": 79,
     "metadata": {},
     "output_type": "execute_result"
    }
   ],
   "source": [
    "section.calculate_equivalent_stress(strains=np.array([1, 0, 0, 0, 0]), z=np.array([-0.5]))"
   ]
  },
  {
   "cell_type": "code",
   "execution_count": 80,
   "metadata": {},
   "outputs": [
    {
     "data": {
      "text/plain": [
       "(2,)"
      ]
     },
     "execution_count": 80,
     "metadata": {},
     "output_type": "execute_result"
    }
   ],
   "source": [
    "section.calculate_equivalent_stress(strains=np.array([1, 0, 0, 0, 0]), z=np.array([-0.05, 0.05])).shape"
   ]
  },
  {
   "cell_type": "code",
   "execution_count": 81,
   "metadata": {},
   "outputs": [
    {
     "data": {
      "text/plain": [
       "(2, 3)"
      ]
     },
     "execution_count": 81,
     "metadata": {},
     "output_type": "execute_result"
    }
   ],
   "source": [
    "section.calculate_equivalent_stress(strains=np.array([1, 0, 0, 0, 0])).shape"
   ]
  },
  {
   "cell_type": "code",
   "execution_count": 82,
   "metadata": {},
   "outputs": [
    {
     "data": {
      "text/plain": [
       "(10, 2, 3)"
      ]
     },
     "execution_count": 82,
     "metadata": {},
     "output_type": "execute_result"
    }
   ],
   "source": [
    "section.calculate_equivalent_stress(strains=2 * np.random.rand(10, 5) / 1000).shape"
   ]
  },
  {
   "cell_type": "code",
   "execution_count": 83,
   "metadata": {},
   "outputs": [
    {
     "data": {
      "text/plain": [
       "(10, 3)"
      ]
     },
     "execution_count": 83,
     "metadata": {},
     "output_type": "execute_result"
    }
   ],
   "source": [
    "section.calculate_equivalent_stress(\n",
    "    strains=2 * np.random.rand(10, 5) / 1000, z=np.array([-0.5, 0.0, 0.5])\n",
    ").shape"
   ]
  },
  {
   "cell_type": "code",
   "execution_count": 84,
   "metadata": {},
   "outputs": [
    {
     "data": {
      "text/plain": [
       "(10, 10)"
      ]
     },
     "execution_count": 84,
     "metadata": {},
     "output_type": "execute_result"
    }
   ],
   "source": [
    "section.calculate_equivalent_stress(\n",
    "    strains=2 * np.random.rand(10, 5) / 1000, z=np.linspace(-1, 1, 10)\n",
    ").shape"
   ]
  },
  {
   "cell_type": "code",
   "execution_count": 85,
   "metadata": {},
   "outputs": [
    {
     "name": "stderr",
     "output_type": "stream",
     "text": [
      "F:\\GitHub\\SigmaEpsilon\\sigmaepsilon.solid.material\\src\\sigmaepsilon\\solid\\material\\surface\\mindlin.py:282: SigmaEpsilonMaterialWarning: [sigmaepsilon.solid.material] It seems that handling this section as a plate only would result in missing out on the effect of bending-extension coupling. It is suggested to use a shell instead.\n",
      "  warnings.warn(\n"
     ]
    },
    {
     "data": {
      "text/plain": [
       "array([[ 2.94230769e+03,  8.82692308e+02,  1.34506306e-14,\n",
       "         0.00000000e+00,  0.00000000e+00],\n",
       "       [ 8.82692308e+02,  2.94230769e+03,  1.41373753e-14,\n",
       "         0.00000000e+00,  0.00000000e+00],\n",
       "       [ 1.34506306e-14,  1.41373753e-14,  1.02980769e+03,\n",
       "         0.00000000e+00,  0.00000000e+00],\n",
       "       [ 0.00000000e+00,  0.00000000e+00,  0.00000000e+00,\n",
       "         1.39991420e+05, -2.92123253e-13],\n",
       "       [ 0.00000000e+00,  0.00000000e+00,  0.00000000e+00,\n",
       "        -2.92123253e-13,  1.39991420e+05]])"
      ]
     },
     "execution_count": 85,
     "metadata": {},
     "output_type": "execute_result"
    }
   ],
   "source": [
    "section = Section(\n",
    "    layers=[\n",
    "        Section.Layer(material=Section.Material(E=2100000, nu=0.3), thickness=0.1),\n",
    "        Section.Layer(material=Section.Material(E=2100000, nu=0.3), thickness=0.1),\n",
    "        Section.Layer(\n",
    "            material=Section.Material(E=210000, nu=0.3), thickness=0.1, angle=30.0\n",
    "        ),\n",
    "    ]\n",
    ")\n",
    "section.elastic_stiffness_matrix()"
   ]
  },
  {
   "cell_type": "code",
   "execution_count": 86,
   "metadata": {},
   "outputs": [
    {
     "name": "stderr",
     "output_type": "stream",
     "text": [
      "F:\\GitHub\\SigmaEpsilon\\sigmaepsilon.solid.material\\src\\sigmaepsilon\\solid\\material\\surface\\mindlin.py:282: SigmaEpsilonMaterialWarning: [sigmaepsilon.solid.material] It seems that handling this section as a plate only would result in missing out on the effect of bending-extension coupling. It is suggested to use a shell instead.\n",
      "  warnings.warn(\n"
     ]
    },
    {
     "data": {
      "text/plain": [
       "array([[ 1.53846147e+03,  4.61538385e+02,  8.96196946e-06,\n",
       "         0.00000000e+00,  0.00000000e+00],\n",
       "       [ 4.61538385e+02,  1.53846147e+03, -8.96196939e-06,\n",
       "         0.00000000e+00,  0.00000000e+00],\n",
       "       [ 8.96196946e-06, -8.96196939e-06,  5.38461554e+02,\n",
       "         0.00000000e+00,  0.00000000e+00],\n",
       "       [ 0.00000000e+00,  0.00000000e+00,  0.00000000e+00,\n",
       "         9.96299487e+02, -8.45624608e-15],\n",
       "       [ 0.00000000e+00,  0.00000000e+00,  0.00000000e+00,\n",
       "        -8.45624608e-15,  1.34615385e+05]])"
      ]
     },
     "execution_count": 86,
     "metadata": {},
     "output_type": "execute_result"
    }
   ],
   "source": [
    "section = Section(\n",
    "    layers=[\n",
    "        Section.Layer(material=Section.Material(E=2100000, nu=0.3), thickness=0.1),\n",
    "        Section.Layer(\n",
    "            material=Section.Material(\n",
    "                E1=2100000,\n",
    "                E2=5000,\n",
    "                E3=10,\n",
    "                nu12=0.3,\n",
    "                G13=3000.0,\n",
    "                isoplane=\"12\",\n",
    "            ),\n",
    "            thickness=0.1,\n",
    "            angle=30.0,\n",
    "        ),\n",
    "    ]\n",
    ")\n",
    "section.elastic_stiffness_matrix()"
   ]
  }
 ],
 "metadata": {
  "kernelspec": {
   "display_name": ".sigeps",
   "language": "python",
   "name": "python3"
  },
  "language_info": {
   "codemirror_mode": {
    "name": "ipython",
    "version": 3
   },
   "file_extension": ".py",
   "mimetype": "text/x-python",
   "name": "python",
   "nbconvert_exporter": "python",
   "pygments_lexer": "ipython3",
   "version": "3.8.10"
  },
  "orig_nbformat": 4,
  "vscode": {
   "interpreter": {
    "hash": "28d81e0e1442962330764574f1956d80898814d1923baa1210fb6369a4e79b2a"
   }
  }
 },
 "nbformat": 4,
 "nbformat_minor": 2
}
